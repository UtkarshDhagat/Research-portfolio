{
 "cells": [
  {
   "cell_type": "code",
   "execution_count": 2,
   "id": "6dee4a1a-5d0c-4d5c-9bbe-5546b67a08be",
   "metadata": {},
   "outputs": [],
   "source": [
    "import os\n",
    "import musdb\n",
    "import torch\n",
    "import torchaudio\n",
    "from torch.utils.data import Dataset\n",
    "import torch.nn as nn\n",
    "from torch.utils.data import DataLoader\n",
    "from tqdm import tqdm\n",
    "import torch.nn.functional as F\n",
    "from torch.utils.checkpoint import checkpoint"
   ]
  },
  {
   "cell_type": "code",
   "execution_count": null,
   "id": "fa72fbf2-19cf-47cb-9e6d-a8efda9a1926",
   "metadata": {},
   "outputs": [
    {
     "name": "stdout",
     "output_type": "stream",
     "text": [
      "Number of tracks: 150\n",
      "Training tracks: 100\n",
      "Test tracks: 50\n"
     ]
    }
   ],
   "source": [
    "mus = musdb.DB(root=\"../musdb18hq\", is_wav=True)\n",
    "print(f\"Number of tracks: {len(mus)}\")\n",
    "\n",
    "mus_train = mus.load_mus_tracks(subsets=\"train\")\n",
    "mus_test = mus.load_mus_tracks(subsets=\"test\")\n",
    "print(f\"Training tracks: {len(mus_train)}\")\n",
    "print(f\"Test tracks: {len(mus_test)}\")"
   ]
  },
  {
   "cell_type": "code",
   "execution_count": 4,
   "id": "45809ee4",
   "metadata": {},
   "outputs": [],
   "source": [
    "def chunk_spectrogram(spec, chunk_size=512):\n",
    "    num_frames = spec.shape[-1]\n",
    "    chunks = []\n",
    "    for start in range(0, num_frames, chunk_size):\n",
    "        end = min(start + chunk_size, num_frames)\n",
    "        chunk = spec[..., start:end]\n",
    "        if chunk.shape[-1] < chunk_size:\n",
    "            padding = (0, chunk_size - chunk.shape[-1])\n",
    "            chunk = torch.nn.functional.pad(chunk, padding)\n",
    "        chunks.append(chunk)\n",
    "    return chunks"
   ]
  },
  {
   "cell_type": "code",
   "execution_count": null,
   "id": "c61eb510",
   "metadata": {},
   "outputs": [],
   "source": [
    "class PrecomputedMusdbDataset(Dataset):\n",
    "    def __init__(self, spec_dir=\"musdb_specs\", chunk_size=512):\n",
    "        self.spec_dir = spec_dir\n",
    "        self.chunk_size = chunk_size\n",
    "        self.chunk_indices = self._prepare_chunk_indices()\n",
    "\n",
    "    def _prepare_chunk_indices(self):\n",
    "        chunk_indices = []\n",
    "        for i in range(100):\n",
    "            mix_data = torch.load(f\"{self.spec_dir}/mix_{i}.pt\")\n",
    "            num_chunks = len(mix_data['chunks'])\n",
    "            for chunk_idx in range(num_chunks):\n",
    "                chunk_indices.append((i, chunk_idx))\n",
    "        return chunk_indices\n",
    "\n",
    "    def __len__(self): return len(self.chunk_indices)\n",
    "    def __getitem__(self, idx):\n",
    "        track_idx, chunk_idx = self.chunk_indices[idx]\n",
    "        mix_data = torch.load(f\"{self.spec_dir}/mix_{track_idx}.pt\")\n",
    "        target_data = torch.load(f\"{self.spec_dir}/target_{track_idx}.pt\")\n",
    "        return mix_data['chunks'][chunk_idx], target_data['chunks'][chunk_idx]"
   ]
  },
  {
   "cell_type": "code",
   "execution_count": 6,
   "id": "6c1354d2",
   "metadata": {},
   "outputs": [],
   "source": [
    "class ConvLayer(nn.Module):\n",
    "    def __init__(self, n_inputs, n_outputs, kernel_size, stride, conv_type, padding=0, transpose=False, dropout=0.1):\n",
    "        super(ConvLayer, self).__init__()\n",
    "        self.transpose = transpose\n",
    "        self.stride = stride\n",
    "        self.kernel_size = kernel_size\n",
    "        self.conv_type = conv_type\n",
    "        self.padding = padding\n",
    "\n",
    "        if self.transpose:\n",
    "            self.filter = nn.ConvTranspose2d(n_inputs, n_outputs, self.kernel_size, stride, padding=self.padding)\n",
    "        else:\n",
    "            self.filter = nn.Conv2d(n_inputs, n_outputs, self.kernel_size, stride, padding=self.padding)\n",
    "\n",
    "        NORM_CHANNELS = 8\n",
    "        if conv_type == \"gn\":\n",
    "            assert n_outputs % NORM_CHANNELS == 0\n",
    "            self.norm = nn.GroupNorm(n_outputs // NORM_CHANNELS, n_outputs)\n",
    "        elif conv_type == \"bn\":\n",
    "            self.norm = nn.BatchNorm2d(n_outputs, momentum=0.01)\n",
    "        else:\n",
    "            self.norm = None\n",
    "\n",
    "        self.dropout = nn.Dropout2d(dropout) if dropout > 0 else None\n",
    "\n",
    "    def forward(self, x):\n",
    "        out = self.filter(x)\n",
    "        if self.norm:\n",
    "            out = self.norm(out)\n",
    "        out = F.leaky_relu(out, negative_slope=0.2)\n",
    "        if self.dropout:\n",
    "            out = self.dropout(out)\n",
    "        return out"
   ]
  },
  {
   "cell_type": "code",
   "execution_count": 7,
   "id": "84f35f35",
   "metadata": {},
   "outputs": [],
   "source": [
    "def centre_crop(x, target):\n",
    "    \"\"\"\n",
    "    Center-crop 3D or 4D input tensor along the last two spatial dimensions to match target shape.\n",
    "    \"\"\"\n",
    "    if x is None or target is None:\n",
    "        return x\n",
    "    if x.size(2) == target.size(2) and x.size(3) == target.size(3):\n",
    "        return x  # No cropping needed\n",
    "\n",
    "    diff_h = x.size(2) - target.size(2)\n",
    "    diff_w = x.size(3) - target.size(3)\n",
    "\n",
    "    if diff_h < 0 or diff_w < 0:\n",
    "        # If x is smaller, interpolate instead of cropping\n",
    "        return F.interpolate(x, size=(target.size(2), target.size(3)), mode='bilinear', align_corners=False)\n",
    "\n",
    "    crop_h1 = diff_h // 2\n",
    "    crop_h2 = diff_h - crop_h1\n",
    "    crop_w1 = diff_w // 2\n",
    "    crop_w2 = diff_w - crop_w1\n",
    "\n",
    "    return x[:, :, crop_h1:x.size(2) - crop_h2, crop_w1:x.size(3) - crop_w2].contiguous()"
   ]
  },
  {
   "cell_type": "code",
   "execution_count": 8,
   "id": "03514c1f",
   "metadata": {},
   "outputs": [],
   "source": [
    "class ResidualBlock(nn.Module):\n",
    "    def __init__(self, channels):\n",
    "        super(ResidualBlock, self).__init__()\n",
    "        self.depthwise_conv = nn.Conv2d(channels, channels, kernel_size=3, padding=1, groups=channels)\n",
    "        self.pointwise_conv = nn.Conv2d(channels, channels, kernel_size=1)\n",
    "        self.block = nn.Sequential(\n",
    "            self.depthwise_conv,\n",
    "            nn.GroupNorm(8, channels),\n",
    "            nn.LeakyReLU(negative_slope=0.2, inplace=True),\n",
    "            self.pointwise_conv,\n",
    "            nn.GroupNorm(8, channels)\n",
    "        )\n",
    "\n",
    "    def forward(self, x):\n",
    "        return x + self.block(x)"
   ]
  },
  {
   "cell_type": "code",
   "execution_count": 9,
   "id": "dff30a5b",
   "metadata": {},
   "outputs": [],
   "source": [
    "class AttentionBlock(nn.Module):\n",
    "    def __init__(self, channels):\n",
    "        super(AttentionBlock, self).__init__()\n",
    "        self.attention = nn.Sequential(\n",
    "            nn.GroupNorm(8, channels),\n",
    "            nn.Conv2d(channels, channels // 8, kernel_size=1, groups=4),\n",
    "            nn.ReLU(inplace=True),\n",
    "            nn.Conv2d(channels // 8, channels, kernel_size=1, groups=4),\n",
    "            nn.Sigmoid()\n",
    "        )\n",
    "\n",
    "    def forward(self, x):\n",
    "        return x * self.attention(x)"
   ]
  },
  {
   "cell_type": "code",
   "execution_count": null,
   "id": "132cd67a",
   "metadata": {},
   "outputs": [],
   "source": [
    "class ModifiedUNet(nn.Module):\n",
    "    def __init__(self, in_channels=2, out_channels=8):\n",
    "        super(ModifiedUNet, self).__init__()\n",
    "\n",
    "        # Encoder\n",
    "        self.enc1 = nn.Sequential(ConvLayer(in_channels, 64, 4, 2, \"gn\", padding=1), ResidualBlock(64))\n",
    "        self.enc2 = nn.Sequential(ConvLayer(64, 128, 4, 2, \"gn\", padding=1), ResidualBlock(128))\n",
    "        self.enc3 = nn.Sequential(ConvLayer(128, 256, 4, 2, \"gn\", padding=1), ResidualBlock(256))\n",
    "\n",
    "        # Bottleneck\n",
    "        self.bottleneck = nn.Sequential(ConvLayer(256, 512, 3, 1, \"gn\", padding=1), AttentionBlock(512))\n",
    "\n",
    "        # Decoder\n",
    "        self.dec3 = nn.Sequential(ConvLayer(512 + 256, 256, 4, 2, \"gn\", padding=1, transpose=True), AttentionBlock(256))\n",
    "        self.dec2 = nn.Sequential(ConvLayer(256 + 128, 128, 4, 2, \"gn\", padding=1, transpose=True), AttentionBlock(128))\n",
    "        self.dec1 = nn.Sequential(ConvLayer(128 + 64, 64, 4, 2, \"gn\", padding=1, transpose=True), AttentionBlock(64))\n",
    "\n",
    "        # Final layer\n",
    "        self.final = nn.Conv2d(64, out_channels, 3, 1, 1)\n",
    "\n",
    "    def forward(self, x):\n",
    "        x = x[:, :, :512, :]\n",
    "        enc1 = checkpoint(self.enc1, x, use_reentrant=False)\n",
    "        enc2 = checkpoint(self.enc2, enc1, use_reentrant=False)\n",
    "        enc3 = checkpoint(self.enc3, enc2, use_reentrant=False)\n",
    "        bottleneck = checkpoint(self.bottleneck, enc3, use_reentrant=False)\n",
    "        dec3 = checkpoint(self.dec3, torch.cat((bottleneck, enc3), dim=1), use_reentrant=False)\n",
    "        dec2 = checkpoint(self.dec2, torch.cat((dec3, enc2), dim=1), use_reentrant=False)\n",
    "        dec1 = checkpoint(self.dec1, torch.cat((dec2, enc1), dim=1), use_reentrant=False)\n",
    "        out = self.final(dec1)\n",
    "        out = torch.sigmoid(out)\n",
    "        out = out.view(-1, 4, 2, *out.shape[2:])\n",
    "        return F.pad(out, (0, 0, 0, 1))"
   ]
  },
  {
   "cell_type": "code",
   "execution_count": null,
   "id": "9357b6b2",
   "metadata": {},
   "outputs": [
    {
     "name": "stdout",
     "output_type": "stream",
     "text": [
      "Output shape: torch.Size([2, 4, 2, 513, 512])\n"
     ]
    }
   ],
   "source": [
    "model = ModifiedUNet(in_channels=2, out_channels=8)\n",
    "x = torch.randn(2, 2, 513, 512)\n",
    "out = model(x)\n",
    "print(f\"Output shape: {out.shape}\")"
   ]
  },
  {
   "cell_type": "code",
   "execution_count": 12,
   "id": "5fdc66af",
   "metadata": {},
   "outputs": [],
   "source": [
    "# Loss Function with Clamping and Debugging\n",
    "class StereoSpectrogramLoss(nn.Module):\n",
    "    def __init__(self, w_log_mag=1.0, w_lin_mag=1.0):\n",
    "        super(StereoSpectrogramLoss, self).__init__()\n",
    "        self.w_log_mag = w_log_mag\n",
    "        self.w_lin_mag = w_lin_mag\n",
    "        self.mse = nn.MSELoss()\n",
    "\n",
    "    def forward(self, pred, target):\n",
    "        pred_mid = (pred[:, :, 0] + pred[:, :, 1]) / 2\n",
    "        pred_side = (pred[:, :, 0] - pred[:, :, 1]) / 2\n",
    "        target_mid = (target[:, :, 0] + target[:, :, 1]) / 2\n",
    "        target_side = (target[:, :, 0] - target[:, :, 1]) / 2\n",
    "\n",
    "        # Clamp to ensure non-negative for log1p\n",
    "        pred_mid = torch.clamp(pred_mid, min=0)\n",
    "        pred_side = torch.clamp(pred_side, min=0)\n",
    "        target_mid = torch.clamp(target_mid, min=0)\n",
    "        target_side = torch.clamp(target_side, min=0)\n",
    "\n",
    "        # Debugging\n",
    "        if not (torch.all(torch.isfinite(pred_mid)) and torch.all(torch.isfinite(pred_side))):\n",
    "            print(\"NaN/Inf in pred_mid or pred_side\")\n",
    "            print(f\"pred_mid: {pred_mid.min()}, {pred_mid.max()}\")\n",
    "            print(f\"pred_side: {pred_side.min()}, {pred_side.max()}\")\n",
    "        if not (torch.all(torch.isfinite(target_mid)) and torch.all(torch.isfinite(target_side))):\n",
    "            print(\"NaN/Inf in target_mid or target_side\")\n",
    "            print(f\"target_mid: {target_mid.min()}, {target_mid.max()}\")\n",
    "            print(f\"target_side: {target_side.min()}, {target_side.max()}\")\n",
    "\n",
    "        log_loss_mid = self.mse(torch.log1p(pred_mid), torch.log1p(target_mid))\n",
    "        log_loss_side = self.mse(torch.log1p(pred_side), torch.log1p(target_side))\n",
    "        if not (torch.isfinite(log_loss_mid) and torch.isfinite(log_loss_side)):\n",
    "            print(\"NaN in log losses\")\n",
    "            print(f\"log_loss_mid: {log_loss_mid}, log_loss_side: {log_loss_side}\")\n",
    "        log_loss = (log_loss_mid + log_loss_side) / 2\n",
    "\n",
    "        lin_loss_mid = self.mse(pred_mid, target_mid)\n",
    "        lin_loss_side = self.mse(pred_side, target_side)\n",
    "        if not (torch.isfinite(lin_loss_mid) and torch.isfinite(lin_loss_side)):\n",
    "            print(\"NaN in lin losses\")\n",
    "            print(f\"lin_loss_mid: {lin_loss_mid}, lin_loss_side: {lin_loss_side}\")\n",
    "        lin_loss = (lin_loss_mid + lin_loss_side) / 2\n",
    "\n",
    "        total_loss = self.w_log_mag * log_loss + self.w_lin_mag * lin_loss\n",
    "        if not torch.isfinite(total_loss):\n",
    "            print(\"NaN in total_loss\")\n",
    "            print(f\"log_loss: {log_loss}, lin_loss: {lin_loss}\")\n",
    "        return total_loss"
   ]
  },
  {
   "cell_type": "code",
   "execution_count": null,
   "id": "edab28c8",
   "metadata": {},
   "outputs": [],
   "source": [
    "def preprocess_dataset(musdb_root, output_dir=\"../musdb_specs\"):\n",
    "    os.makedirs(output_dir, exist_ok=True)\n",
    "    mus = musdb.DB(root=musdb_root, is_wav=True)\n",
    "    tracks = mus.load_mus_tracks(subsets=\"train\")\n",
    "    transform = torchaudio.transforms.Spectrogram(n_fft=1024, hop_length=256, power=2)\n",
    "    for i, track in enumerate(tqdm(tracks, desc=\"Preprocessing Tracks\")):\n",
    "        mix = torch.tensor(track.audio.T, dtype=torch.float32)\n",
    "        targets = [torch.tensor(track.targets[src].audio.T, dtype=torch.float32) \n",
    "                   for src in ['vocals', 'drums', 'bass', 'other']]\n",
    "        mix_spec = torch.log1p(transform(mix))\n",
    "        target_spec = torch.stack([torch.log1p(transform(t)) for t in targets])\n",
    "        torch.save({'spec': mix_spec, 'chunks': chunk_spectrogram(mix_spec, 512)}, f\"{output_dir}/mix_{i}.pt\")\n",
    "        torch.save({'spec': target_spec, 'chunks': chunk_spectrogram(target_spec, 512)}, f\"{output_dir}/target_{i}.pt\")\n",
    "    return len(tracks)"
   ]
  },
  {
   "cell_type": "code",
   "execution_count": null,
   "id": "11b6e87c",
   "metadata": {},
   "outputs": [
    {
     "name": "stderr",
     "output_type": "stream",
     "text": [
      "Preprocessing Tracks: 100%|██████████| 100/100 [12:18<00:00,  7.39s/it]\n"
     ]
    },
    {
     "data": {
      "text/plain": [
       "100"
      ]
     },
     "execution_count": 14,
     "metadata": {},
     "output_type": "execute_result"
    }
   ],
   "source": [
    "preprocess_dataset(\"../musdb18hq\")"
   ]
  },
  {
   "cell_type": "code",
   "execution_count": 15,
   "id": "5f44efee",
   "metadata": {},
   "outputs": [
    {
     "data": {
      "text/plain": [
       "ModifiedUNet(\n",
       "  (enc1): Sequential(\n",
       "    (0): ConvLayer(\n",
       "      (filter): Conv2d(2, 64, kernel_size=(4, 4), stride=(2, 2), padding=(1, 1))\n",
       "      (norm): GroupNorm(8, 64, eps=1e-05, affine=True)\n",
       "      (dropout): Dropout2d(p=0.1, inplace=False)\n",
       "    )\n",
       "    (1): ResidualBlock(\n",
       "      (depthwise_conv): Conv2d(64, 64, kernel_size=(3, 3), stride=(1, 1), padding=(1, 1), groups=64)\n",
       "      (pointwise_conv): Conv2d(64, 64, kernel_size=(1, 1), stride=(1, 1))\n",
       "      (block): Sequential(\n",
       "        (0): Conv2d(64, 64, kernel_size=(3, 3), stride=(1, 1), padding=(1, 1), groups=64)\n",
       "        (1): GroupNorm(8, 64, eps=1e-05, affine=True)\n",
       "        (2): LeakyReLU(negative_slope=0.2, inplace=True)\n",
       "        (3): Conv2d(64, 64, kernel_size=(1, 1), stride=(1, 1))\n",
       "        (4): GroupNorm(8, 64, eps=1e-05, affine=True)\n",
       "      )\n",
       "    )\n",
       "  )\n",
       "  (enc2): Sequential(\n",
       "    (0): ConvLayer(\n",
       "      (filter): Conv2d(64, 128, kernel_size=(4, 4), stride=(2, 2), padding=(1, 1))\n",
       "      (norm): GroupNorm(16, 128, eps=1e-05, affine=True)\n",
       "      (dropout): Dropout2d(p=0.1, inplace=False)\n",
       "    )\n",
       "    (1): ResidualBlock(\n",
       "      (depthwise_conv): Conv2d(128, 128, kernel_size=(3, 3), stride=(1, 1), padding=(1, 1), groups=128)\n",
       "      (pointwise_conv): Conv2d(128, 128, kernel_size=(1, 1), stride=(1, 1))\n",
       "      (block): Sequential(\n",
       "        (0): Conv2d(128, 128, kernel_size=(3, 3), stride=(1, 1), padding=(1, 1), groups=128)\n",
       "        (1): GroupNorm(8, 128, eps=1e-05, affine=True)\n",
       "        (2): LeakyReLU(negative_slope=0.2, inplace=True)\n",
       "        (3): Conv2d(128, 128, kernel_size=(1, 1), stride=(1, 1))\n",
       "        (4): GroupNorm(8, 128, eps=1e-05, affine=True)\n",
       "      )\n",
       "    )\n",
       "  )\n",
       "  (enc3): Sequential(\n",
       "    (0): ConvLayer(\n",
       "      (filter): Conv2d(128, 256, kernel_size=(4, 4), stride=(2, 2), padding=(1, 1))\n",
       "      (norm): GroupNorm(32, 256, eps=1e-05, affine=True)\n",
       "      (dropout): Dropout2d(p=0.1, inplace=False)\n",
       "    )\n",
       "    (1): ResidualBlock(\n",
       "      (depthwise_conv): Conv2d(256, 256, kernel_size=(3, 3), stride=(1, 1), padding=(1, 1), groups=256)\n",
       "      (pointwise_conv): Conv2d(256, 256, kernel_size=(1, 1), stride=(1, 1))\n",
       "      (block): Sequential(\n",
       "        (0): Conv2d(256, 256, kernel_size=(3, 3), stride=(1, 1), padding=(1, 1), groups=256)\n",
       "        (1): GroupNorm(8, 256, eps=1e-05, affine=True)\n",
       "        (2): LeakyReLU(negative_slope=0.2, inplace=True)\n",
       "        (3): Conv2d(256, 256, kernel_size=(1, 1), stride=(1, 1))\n",
       "        (4): GroupNorm(8, 256, eps=1e-05, affine=True)\n",
       "      )\n",
       "    )\n",
       "  )\n",
       "  (bottleneck): Sequential(\n",
       "    (0): ConvLayer(\n",
       "      (filter): Conv2d(256, 512, kernel_size=(3, 3), stride=(1, 1), padding=(1, 1))\n",
       "      (norm): GroupNorm(64, 512, eps=1e-05, affine=True)\n",
       "      (dropout): Dropout2d(p=0.1, inplace=False)\n",
       "    )\n",
       "    (1): AttentionBlock(\n",
       "      (attention): Sequential(\n",
       "        (0): GroupNorm(8, 512, eps=1e-05, affine=True)\n",
       "        (1): Conv2d(512, 64, kernel_size=(1, 1), stride=(1, 1), groups=4)\n",
       "        (2): ReLU(inplace=True)\n",
       "        (3): Conv2d(64, 512, kernel_size=(1, 1), stride=(1, 1), groups=4)\n",
       "        (4): Sigmoid()\n",
       "      )\n",
       "    )\n",
       "  )\n",
       "  (dec3): Sequential(\n",
       "    (0): ConvLayer(\n",
       "      (filter): ConvTranspose2d(768, 256, kernel_size=(4, 4), stride=(2, 2), padding=(1, 1))\n",
       "      (norm): GroupNorm(32, 256, eps=1e-05, affine=True)\n",
       "      (dropout): Dropout2d(p=0.1, inplace=False)\n",
       "    )\n",
       "    (1): AttentionBlock(\n",
       "      (attention): Sequential(\n",
       "        (0): GroupNorm(8, 256, eps=1e-05, affine=True)\n",
       "        (1): Conv2d(256, 32, kernel_size=(1, 1), stride=(1, 1), groups=4)\n",
       "        (2): ReLU(inplace=True)\n",
       "        (3): Conv2d(32, 256, kernel_size=(1, 1), stride=(1, 1), groups=4)\n",
       "        (4): Sigmoid()\n",
       "      )\n",
       "    )\n",
       "  )\n",
       "  (dec2): Sequential(\n",
       "    (0): ConvLayer(\n",
       "      (filter): ConvTranspose2d(384, 128, kernel_size=(4, 4), stride=(2, 2), padding=(1, 1))\n",
       "      (norm): GroupNorm(16, 128, eps=1e-05, affine=True)\n",
       "      (dropout): Dropout2d(p=0.1, inplace=False)\n",
       "    )\n",
       "    (1): AttentionBlock(\n",
       "      (attention): Sequential(\n",
       "        (0): GroupNorm(8, 128, eps=1e-05, affine=True)\n",
       "        (1): Conv2d(128, 16, kernel_size=(1, 1), stride=(1, 1), groups=4)\n",
       "        (2): ReLU(inplace=True)\n",
       "        (3): Conv2d(16, 128, kernel_size=(1, 1), stride=(1, 1), groups=4)\n",
       "        (4): Sigmoid()\n",
       "      )\n",
       "    )\n",
       "  )\n",
       "  (dec1): Sequential(\n",
       "    (0): ConvLayer(\n",
       "      (filter): ConvTranspose2d(192, 64, kernel_size=(4, 4), stride=(2, 2), padding=(1, 1))\n",
       "      (norm): GroupNorm(8, 64, eps=1e-05, affine=True)\n",
       "      (dropout): Dropout2d(p=0.1, inplace=False)\n",
       "    )\n",
       "    (1): AttentionBlock(\n",
       "      (attention): Sequential(\n",
       "        (0): GroupNorm(8, 64, eps=1e-05, affine=True)\n",
       "        (1): Conv2d(64, 8, kernel_size=(1, 1), stride=(1, 1), groups=4)\n",
       "        (2): ReLU(inplace=True)\n",
       "        (3): Conv2d(8, 64, kernel_size=(1, 1), stride=(1, 1), groups=4)\n",
       "        (4): Sigmoid()\n",
       "      )\n",
       "    )\n",
       "  )\n",
       "  (final): Conv2d(64, 8, kernel_size=(3, 3), stride=(1, 1), padding=(1, 1))\n",
       ")"
      ]
     },
     "execution_count": 15,
     "metadata": {},
     "output_type": "execute_result"
    }
   ],
   "source": [
    "dataset = PrecomputedMusdbDataset(spec_dir=\"musdb_specs\")  # 7,754 chunks\n",
    "dataloader = DataLoader(dataset, batch_size=2, shuffle=True, num_workers=0)  # No workers\n",
    "model = ModifiedUNet(in_channels=2, out_channels=8)\n",
    "criterion = StereoSpectrogramLoss(w_log_mag=1.0, w_lin_mag=0.5)\n",
    "optimizer = torch.optim.Adam(model.parameters(), lr=0.0001)\n",
    "device = torch.device(\"cuda\" if torch.cuda.is_available() else \"cpu\")\n",
    "model.to(device)"
   ]
  },
  {
   "cell_type": "code",
   "execution_count": 16,
   "id": "459b3c7e",
   "metadata": {},
   "outputs": [
    {
     "name": "stdout",
     "output_type": "stream",
     "text": [
      "Total chunks in training dataset: 7754\n",
      "Batches per epoch: 3877\n"
     ]
    }
   ],
   "source": [
    "# Verify chunk and batch count\n",
    "print(f\"Total chunks in training dataset: {len(dataset)}\")\n",
    "print(f\"Batches per epoch: {len(dataloader)}\")"
   ]
  },
  {
   "cell_type": "code",
   "execution_count": null,
   "id": "ac8357d9",
   "metadata": {},
   "outputs": [],
   "source": [
    "# Training Function with Multi-GPU Support\n",
    "def train(model, dataloader, criterion, optimizer, epochs=10, device_ids=[0, 1]):\n",
    "    model.train()\n",
    "    if torch.cuda.device_count() > 1:\n",
    "        print(f\"Using {torch.cuda.device_count()} GPUs!\")\n",
    "        model = nn.DataParallel(model, device_ids=device_ids)\n",
    "    model.to(device)\n",
    "\n",
    "    for epoch in tqdm(range(epochs), desc=\"Training Progress\", unit=\"epoch\"):\n",
    "        running_loss = 0.0\n",
    "        batch_iterator = tqdm(dataloader, desc=f\"Epoch {epoch + 1}/{epochs}\", leave=False, unit=\"batch\", total=len(dataloader))\n",
    "        for i, (mix_batch, target_batch) in enumerate(batch_iterator):\n",
    "            try:\n",
    "                mix_batch, target_batch = mix_batch.to(device), target_batch.to(device)\n",
    "                optimizer.zero_grad()\n",
    "                pred_spec = model(mix_batch)  # [batch_size, 4, 2, 513, 512]\n",
    "                loss = criterion(pred_spec, target_batch)\n",
    "                loss.backward()\n",
    "                torch.nn.utils.clip_grad_norm_(model.parameters(), max_norm=1.0)\n",
    "                optimizer.step()\n",
    "                running_loss += loss.item()\n",
    "            except Exception as e:\n",
    "                tqdm.write(f\"Crash at Batch {i}: {str(e)}\")\n",
    "                raise\n",
    "\n",
    "        avg_loss = running_loss / len(dataloader)\n",
    "        tqdm.write(f\"Epoch {epoch + 1}/{epochs} Completed - Average Loss: {avg_loss:.4f}\")\n",
    "        torch.save(model.module.state_dict() if isinstance(model, nn.DataParallel) else model.state_dict(), \n",
    "                   f\"unet_model_epoch{epoch + 1}.pth\")"
   ]
  },
  {
   "cell_type": "code",
   "execution_count": 18,
   "id": "473b25ad",
   "metadata": {},
   "outputs": [
    {
     "name": "stderr",
     "output_type": "stream",
     "text": [
      "Training Progress:  10%|█         | 1/10 [3:05:42<27:51:18, 11142.05s/epoch]"
     ]
    },
    {
     "name": "stdout",
     "output_type": "stream",
     "text": [
      "Epoch 1/10 Completed - Average Loss: 0.0474\n"
     ]
    },
    {
     "name": "stderr",
     "output_type": "stream",
     "text": [
      "Training Progress:  10%|█         | 1/10 [5:55:49<53:22:23, 21349.33s/epoch]\n"
     ]
    },
    {
     "ename": "KeyboardInterrupt",
     "evalue": "",
     "output_type": "error",
     "traceback": [
      "\u001b[31m---------------------------------------------------------------------------\u001b[39m",
      "\u001b[31mKeyboardInterrupt\u001b[39m                         Traceback (most recent call last)",
      "\u001b[36mCell\u001b[39m\u001b[36m \u001b[39m\u001b[32mIn[18]\u001b[39m\u001b[32m, line 1\u001b[39m\n\u001b[32m----> \u001b[39m\u001b[32m1\u001b[39m \u001b[43mtrain\u001b[49m\u001b[43m(\u001b[49m\u001b[43mmodel\u001b[49m\u001b[43m,\u001b[49m\u001b[43m \u001b[49m\u001b[43mdataloader\u001b[49m\u001b[43m,\u001b[49m\u001b[43m \u001b[49m\u001b[43mcriterion\u001b[49m\u001b[43m,\u001b[49m\u001b[43m \u001b[49m\u001b[43moptimizer\u001b[49m\u001b[43m,\u001b[49m\u001b[43m \u001b[49m\u001b[43mepochs\u001b[49m\u001b[43m=\u001b[49m\u001b[32;43m10\u001b[39;49m\u001b[43m)\u001b[49m\n",
      "\u001b[36mCell\u001b[39m\u001b[36m \u001b[39m\u001b[32mIn[17]\u001b[39m\u001b[32m, line 15\u001b[39m, in \u001b[36mtrain\u001b[39m\u001b[34m(model, dataloader, criterion, optimizer, epochs)\u001b[39m\n\u001b[32m     13\u001b[39m     torch.nn.utils.clip_grad_norm_(model.parameters(), max_norm=\u001b[32m1.0\u001b[39m)\n\u001b[32m     14\u001b[39m     optimizer.step()\n\u001b[32m---> \u001b[39m\u001b[32m15\u001b[39m     running_loss += \u001b[43mloss\u001b[49m\u001b[43m.\u001b[49m\u001b[43mitem\u001b[49m\u001b[43m(\u001b[49m\u001b[43m)\u001b[49m\n\u001b[32m     16\u001b[39m \u001b[38;5;28;01mexcept\u001b[39;00m \u001b[38;5;167;01mException\u001b[39;00m \u001b[38;5;28;01mas\u001b[39;00m e:\n\u001b[32m     17\u001b[39m     tqdm.write(\u001b[33mf\u001b[39m\u001b[33m\"\u001b[39m\u001b[33mCrash at Batch \u001b[39m\u001b[38;5;132;01m{\u001b[39;00mi\u001b[38;5;132;01m}\u001b[39;00m\u001b[33m: \u001b[39m\u001b[38;5;132;01m{\u001b[39;00m\u001b[38;5;28mstr\u001b[39m(e)\u001b[38;5;132;01m}\u001b[39;00m\u001b[33m\"\u001b[39m)\n",
      "\u001b[31mKeyboardInterrupt\u001b[39m: "
     ]
    }
   ],
   "source": [
    "train(model, dataloader, criterion, optimizer, epochs=10)"
   ]
  },
  {
   "cell_type": "code",
   "execution_count": null,
   "id": "6cd34809",
   "metadata": {},
   "outputs": [
    {
     "name": "stdout",
     "output_type": "stream",
     "text": [
      "Loaded pretrained model from epoch 1\n"
     ]
    },
    {
     "name": "stderr",
     "output_type": "stream",
     "text": [
      "Processing Chunks: 100%|██████████| 34/34 [00:11<00:00,  2.98it/s]\n"
     ]
    },
    {
     "name": "stdout",
     "output_type": "stream",
     "text": [
      "Testing complete. Check 'separated_audio' folder for WAV files.\n"
     ]
    }
   ],
   "source": [
    "import os\n",
    "import torch\n",
    "import torchaudio\n",
    "from tqdm import tqdm\n",
    "import soundfile as sf\n",
    "\n",
    "def chunk_spectrogram(spec, chunk_size=512):\n",
    "    num_frames = spec.shape[-1]\n",
    "    chunks = []\n",
    "    for start in range(0, num_frames, chunk_size):\n",
    "        end = min(start + chunk_size, num_frames)\n",
    "        chunk = spec[..., start:end]\n",
    "        if chunk.shape[-1] < chunk_size:\n",
    "            padding = (0, chunk_size - chunk.shape[-1])\n",
    "            chunk = torch.nn.functional.pad(chunk, padding)\n",
    "        chunks.append(chunk)\n",
    "    return chunks\n",
    "\n",
    "def test_model_on_file(model, audio_path, device, output_dir=\"separated_audio\", batch_size=2):\n",
    "    model.eval()\n",
    "    os.makedirs(output_dir, exist_ok=True)\n",
    "\n",
    "    audio, sample_rate = torchaudio.load(audio_path)\n",
    "    if sample_rate != 44100:\n",
    "        resampler = torchaudio.transforms.Resample(sample_rate, 44100)\n",
    "        audio = resampler(audio)\n",
    "    if audio.shape[0] != 2:\n",
    "        raise ValueError(\"Input audio must be stereo (2 channels).\")\n",
    "\n",
    "    transform = torchaudio.transforms.Spectrogram(n_fft=1024, hop_length=256, power=None)\n",
    "    complex_spec = transform(audio) \n",
    "    magnitude_spec = complex_spec.abs() \n",
    "    phase_spec = complex_spec.angle()    \n",
    "    mix_spec = torch.log1p(magnitude_spec)  \n",
    "    mix_chunks = chunk_spectrogram(mix_spec, 512)  \n",
    "\n",
    "    num_chunks = len(mix_chunks)\n",
    "    batches = [mix_chunks[i:i + batch_size] for i in range(0, num_chunks, batch_size)]\n",
    "    \n",
    "    full_pred_specs = {s: [] for s in range(4)} \n",
    "    with torch.no_grad():\n",
    "        for batch in tqdm(batches, desc=\"Processing Chunks\"):\n",
    "            batch_tensor = torch.stack(batch).to(device)\n",
    "            pred_spec = model(batch_tensor)             \n",
    "            pred_spec = pred_spec.cpu()\n",
    "            for b in range(pred_spec.size(0)):\n",
    "                for s in range(4):\n",
    "                    full_pred_specs[s].append(torch.expm1(pred_spec[b, s]))\n",
    "\n",
    "    target_time_frames = magnitude_spec.shape[-1] \n",
    "    full_pred_magnitudes = [torch.cat(full_pred_specs[s], dim=-1)[..., :target_time_frames] for s in range(4)]\n",
    "    full_mix_magnitude = torch.cat(mix_chunks, dim=-1)[..., :target_time_frames] \n",
    "    full_mix_magnitude = torch.expm1(full_mix_magnitude)  \n",
    "\n",
    "    full_pred_specs = [mag * torch.exp(1j * phase_spec) for mag in full_pred_magnitudes]  \n",
    "    full_mix_spec = full_mix_magnitude * torch.exp(1j * phase_spec) \n",
    "\n",
    "    inverse_transform = torchaudio.transforms.InverseSpectrogram(n_fft=1024, hop_length=256)\n",
    "    mix_audio = inverse_transform(full_mix_spec) \n",
    "    source_audios = [inverse_transform(pred_spec) for pred_spec in full_pred_specs] \n",
    "\n",
    "    file_name = os.path.splitext(os.path.basename(audio_path))[0]\n",
    "    sf.write(f\"{output_dir}/{file_name}_mix.wav\", mix_audio.T.numpy(), 44100)\n",
    "    for s, source_audio in enumerate(source_audios):\n",
    "        source_name = ['vocals', 'drums', 'bass', 'other'][s]\n",
    "        sf.write(f\"{output_dir}/{file_name}_{source_name}.wav\", source_audio.T.numpy(), 44100)\n",
    "\n",
    "device = torch.device(\"cuda\" if torch.cuda.is_available() else \"cpu\")\n",
    "model = ModifiedUNet(in_channels=2, out_channels=8).to(device)\n",
    "\n",
    "model.load_state_dict(torch.load(\"unet_model_epoch1.pth\"))\n",
    "print(\"Loaded pretrained model from epoch 1\")\n",
    "\n",
    "audio_path = \"/home/sid/Desktop/Projects/Samsung_PRISM/Project_ausep/Code/musdb18hq/test/Al James - Schoolboy Facination/mixture.wav\"\n",
    "test_model_on_file(model, audio_path, device, output_dir=\"separated_audio\")\n",
    "\n",
    "print(\"Testing complete. Check 'separated_audio' folder for WAV files.\")"
   ]
  }
 ],
 "metadata": {
  "kernelspec": {
   "display_name": "tor",
   "language": "python",
   "name": "python3"
  },
  "language_info": {
   "codemirror_mode": {
    "name": "ipython",
    "version": 3
   },
   "file_extension": ".py",
   "mimetype": "text/x-python",
   "name": "python",
   "nbconvert_exporter": "python",
   "pygments_lexer": "ipython3",
   "version": "3.11.11"
  },
  "widgets": {
   "application/vnd.jupyter.widget-state+json": {
    "state": {},
    "version_major": 2,
    "version_minor": 0
   }
  }
 },
 "nbformat": 4,
 "nbformat_minor": 5
}
